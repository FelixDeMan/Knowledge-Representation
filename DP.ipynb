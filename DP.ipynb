{
 "cells": [
  {
   "cell_type": "code",
   "execution_count": null,
   "metadata": {},
   "outputs": [],
   "source": [
    " def dpll(self,cnf,l):\n",
    "        for item in cnf:\n",
    "            if len(item)==1:\n",
    "                cnf,l=self.unit_p(cnf,l)\n",
    "        if [] in cnf:\n",
    "            return False\n",
    "        if not cnf:\n",
    "            return True\n",
    "        s=l\n",
    "        t=self.most_common(cnf)\n",
    "        cnf1=cnf\n",
    "        if t in s:\n",
    "            s.remove(t)\n",
    "        r1=self.reduced(cnf,t)\n",
    "        r2=self.reduced(cnf1,-t)\n",
    "        return(self.dpll(r1,s) or self.dpll(r2,s))\n"
   ]
  },
  {
   "cell_type": "code",
   "execution_count": null,
   "metadata": {},
   "outputs": [],
   "source": [
    "  def unit_p(self,cnf,l):\n",
    "        t1=0\n",
    "        temp=[]\n",
    "        t=cnf\n",
    "        s=l\n",
    "        for item in t:\n",
    "            if len(item)==1:\n",
    "                t1=item[0]\n",
    "        for item in t:\n",
    "            if t1 in item:\n",
    "                temp.append(item)\n",
    "        if len(temp)>0:\n",
    "            t=[x for x in t if x not in temp]\n",
    "        for item in cnf:\n",
    "            if (t1*-1) in item:\n",
    "                temp=[]\n",
    "                t.remove(item)\n",
    "                t.append([x for x in item if x != -t1])\n",
    "        if t1 in s:\n",
    "            s.remove(t1)\n",
    "        if -t1 in s:\n",
    "            s.remove(-t1)\n",
    "        return t,s"
   ]
  },
  {
   "cell_type": "code",
   "execution_count": 6,
   "metadata": {},
   "outputs": [
    {
     "name": "stdout",
     "output_type": "stream",
     "text": [
      "[[12]]\n"
     ]
    }
   ],
   "source": [
    "lists = [[111],[12]]\n",
    "\n",
    "for list in lists:\n",
    "    if 111 in list:\n",
    "        lists.remove(list)\n",
    "print(lists)"
   ]
  },
  {
   "cell_type": "code",
   "execution_count": null,
   "metadata": {},
   "outputs": [],
   "source": [
    "    def reduced (self,cnf,v):\n",
    "        temp=[]\n",
    "        t=cnf\n",
    "        for item in t:\n",
    "            if v in item:\n",
    "                temp.append(item)\n",
    "        if len(temp)>0:\n",
    "            t=[x for x in t if x not in temp]\n",
    "        for item in cnf:\n",
    "            if (v*-1) in item:\n",
    "                temp=[]\n",
    "                t.remove(item)\n",
    "                t.append([x for x in item if x != -v])\n",
    "        #print (\"After Reduced\",len(self.cnf_l),\"\\n\",cnf)\n",
    "        return t"
   ]
  },
  {
   "cell_type": "code",
   "execution_count": null,
   "metadata": {},
   "outputs": [],
   "source": []
  },
  {
   "cell_type": "code",
   "execution_count": null,
   "metadata": {},
   "outputs": [],
   "source": [
    "def isValid:\n",
    "#checks whether solution is valid"
   ]
  }
 ],
 "metadata": {
  "kernelspec": {
   "display_name": "Python 3",
   "language": "python",
   "name": "python3"
  },
  "language_info": {
   "codemirror_mode": {
    "name": "ipython",
    "version": 3
   },
   "file_extension": ".py",
   "mimetype": "text/x-python",
   "name": "python",
   "nbconvert_exporter": "python",
   "pygments_lexer": "ipython3",
   "version": "3.8.5"
  }
 },
 "nbformat": 4,
 "nbformat_minor": 4
}
