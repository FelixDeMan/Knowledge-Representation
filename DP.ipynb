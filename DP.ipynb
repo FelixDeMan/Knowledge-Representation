{
  "nbformat": 4,
  "nbformat_minor": 0,
  "metadata": {
    "kernelspec": {
      "display_name": "Python 3",
      "language": "python",
      "name": "python3"
    },
    "language_info": {
      "codemirror_mode": {
        "name": "ipython",
        "version": 3
      },
      "file_extension": ".py",
      "mimetype": "text/x-python",
      "name": "python",
      "nbconvert_exporter": "python",
      "pygments_lexer": "ipython3",
      "version": "3.8.5"
    },
    "colab": {
      "name": "DP.ipynb",
      "provenance": []
    }
  },
  "cells": [
    {
      "cell_type": "code",
      "metadata": {
        "id": "CJyQbxinv85g"
      },
      "source": [
        " def dpll(cnf, l):\n",
        "        \n",
        "        for item in cnf:\n",
        "            if len(item)==1:\n",
        "                cnf,l=unit_p(cnf,l)\n",
        "        if [] in cnf:\n",
        "            return False\n",
        "        if not cnf:\n",
        "            return True\n",
        "        s=l\n",
        "        t=most_common(cnf)\n",
        "        cnf1=cnf\n",
        "        if t in s:\n",
        "            s.remove(t)\n",
        "        r1=self.reduced(cnf,t)\n",
        "        r2=self.reduced(cnf1,-t)\n",
        "        return(dpll(r1,s) or dpll(r2,s))\n"
      ],
      "execution_count": 1,
      "outputs": []
    },
    {
      "cell_type": "code",
      "metadata": {
        "id": "S3klkyp5v85p",
        "outputId": "60aef300-6798-4147-e1d3-5f56d2e5c7af",
        "colab": {
          "base_uri": "https://localhost:8080/",
          "height": 135
        }
      },
      "source": [
        "def homemade(cnf, literals):\n",
        "    for item in cnf:\n",
        "        if len(item)==1"
      ],
      "execution_count": 2,
      "outputs": [
        {
          "output_type": "error",
          "ename": "SyntaxError",
          "evalue": "ignored",
          "traceback": [
            "\u001b[0;36m  File \u001b[0;32m\"<ipython-input-2-ef0e2d2e2800>\"\u001b[0;36m, line \u001b[0;32m1\u001b[0m\n\u001b[0;31m    def homemade(cnf, literals)\u001b[0m\n\u001b[0m                               ^\u001b[0m\n\u001b[0;31mSyntaxError\u001b[0m\u001b[0;31m:\u001b[0m invalid syntax\n"
          ]
        }
      ]
    },
    {
      "cell_type": "code",
      "metadata": {
        "id": "1JZ0r-6Fv85s"
      },
      "source": [
        "    def reduced (cnf,v):\n",
        "        temp=[]\n",
        "        t=cnf\n",
        "        for item in t:\n",
        "            if v in item:\n",
        "                temp.append(item)\n",
        "        if len(temp)>0:\n",
        "            t=[x for x in t if x not in temp]\n",
        "        for item in cnf:\n",
        "            if ('-'.join(v)) in item:\n",
        "                temp=[]\n",
        "                t.remove(item)\n",
        "                t.append([x for x in item if x != '-'.join(v)])\n",
        "        print (\"After Reduced\",len(self.cnf_l),\"\\n\",cnf)\n",
        "        return t"
      ],
      "execution_count": null,
      "outputs": []
    },
    {
      "cell_type": "code",
      "metadata": {
        "id": "paO6EGhPv85v"
      },
      "source": [
        ""
      ],
      "execution_count": null,
      "outputs": []
    },
    {
      "cell_type": "code",
      "metadata": {
        "id": "nJHJfrrIv85v"
      },
      "source": [
        "def dimac_StartsWith_p(Input_Lines, name, info):\n",
        "        Info = Input_Lines.pop(0)\n",
        "        \n",
        "        Input_Lines = [x[0:-1] for x in Input_Lines]\n",
        "        \n",
        "        if info:\n",
        "                Number_of_Variables = Info[-2]\n",
        "                Number_of_Clauses   = Info[-1]\n",
        "                \n",
        "                print(f\"Number of Variables present in {name} : \", Number_of_Variables)\n",
        "                print(f\"Number of Clauses present   in {name}  : \", Number_of_Clauses)\n",
        "                print(f\"The first 5 clauses in {name} file :\", Input_Lines[0:5])\n",
        "                \n",
        "                return Input_Lines \n",
        "        else:\n",
        "\n",
        "                return Input_Lines    \n",
        "    \n",
        "\n",
        "def dimac_Reader(input_file, name, info = False, sudoku_vals = False): #DIMACS Reader; returns lists of lists\n",
        "    Input_Lines = []\n",
        "    if sudoku_vals == True:\n",
        "            Input_Lines= [line.strip('\\n').strip('0') for line in input_file.readlines()]\n",
        "                        \n",
        "           # for i in Input_Lines:\n",
        "           #     print(i)\n",
        "           #     i = i.strip('\\n').strip('0')\n",
        "           #     print(i)\n",
        "            return Input_Lines\n",
        "    else:   \n",
        "        for line in input_file.readlines():\n",
        "                Input_Lines.append(line.strip(\"\\n\").split(\" \"))\n",
        "        \n",
        "        #Start of information extraction\n",
        "        if Input_Lines[0][0] == 'c':\n",
        "                Input_Lines =  Input_Lines[1:]\n",
        "                return dimac_StartsWith_p(Input_Lines, name, info)\n",
        "            \n",
        "        elif Input_Lines[0][0] == 'p':        \n",
        "                return dimac_StartsWith_p(Input_Lines, name,info)\n",
        "        \n",
        "        else:\n",
        "                Input_Lines = [x[0:-1] for x in Input_Lines]  \n",
        "                if info:\n",
        "                        print(f\"Number of Clauses present in {name} file  : \", len(Input_Lines))\n",
        "                        print(f\"The first 5 clauses in {name} file :\", Input_Lines[0:5])\n",
        "                        \n",
        "                        return Input_Lines\n",
        "                else:\n",
        "                        return Input_Lines\n",
        "            \n",
        "        #End of information extraction"
      ],
      "execution_count": null,
      "outputs": []
    },
    {
      "cell_type": "code",
      "metadata": {
        "id": "t6k9GIolv85w"
      },
      "source": [
        "def check_clauses(input_rules, input_sudoku):\n",
        "    for i, example_input in enumerate(input_sudoku):\n",
        "        for z, rule_item in reversed(list(enumerate(input_rules))):\n",
        "            #delete clauses from rules if in input\n",
        "            if example_item in rule_item and '-'+example_item not in rule_item and '-' not in example_input:\n",
        "                input_rules.remove(rule_item)\n",
        "            # Negation var exist in rules, so but var is true assigned\n",
        "            elif example_item in rule_item and '-'+example_item in rule_item and '-' not in example_input:\n",
        "                    y = rule_item.replace('-'+example_item,'').strip()\n",
        "                    input_rules[z] = y\n",
        "                    \n",
        "    return input_rules\n",
        "\n",
        "    \n"
      ],
      "execution_count": null,
      "outputs": []
    },
    {
      "cell_type": "code",
      "metadata": {
        "id": "ecNugV14v85y"
      },
      "source": [
        "def get_literals():\n",
        "    literals = []\n",
        "    for i in range (111, 1000):\n",
        "        if ('0' not in str(i)):\n",
        "            literals.append(str(i))\n",
        "    print(len(literals))\n",
        "    return literals"
      ],
      "execution_count": 6,
      "outputs": []
    },
    {
      "cell_type": "code",
      "metadata": {
        "id": "q9QBTUphv85x"
      },
      "source": [
        "Input = open('sudoku_nr_example.txt','r')\n",
        "file_name = 'sudoku_nr_example.txt'\n",
        "\n",
        "Dimac_List = dimac_Reader(Input, file_name.strip('.txt').replace('-',' ').capitalize(), info = False);"
      ],
      "execution_count": null,
      "outputs": []
    },
    {
      "cell_type": "code",
      "metadata": {
        "id": "OlPphBzBwDvo"
      },
      "source": [
        "def dpll_with_results(cnf, literals, assigned):\n",
        " # End terms\n",
        "  if [] in cnf: \n",
        "      return False, assigned\n",
        "\n",
        "  if not cnf:\n",
        "      return True, assigned\n",
        "\n",
        "  # Check for unit clauses\n",
        "  for item in cnf:\n",
        "        if len(item) == 1:\n",
        "          #assigned.extend(item)\n",
        "          cnf, assigned = unit_prop(cnf, assigned)\n",
        " \n",
        "  # Create list of vars to assign\n",
        "  assigned_without_sign = [x.replace('-', '') for x in assigned if '-' in x]\n",
        "  to_assign = [x for x in literals if x not in assigned_without_sign]\n",
        "  print(to_assign)\n",
        "\n",
        "  # Pick var according to heuristic\n",
        "  next_var = getNextVar('random', to_assign)\n",
        "  assigned_by_us.extend('-'+next_var)\n",
        "  assigned.extend('-'+next_var)\n",
        "\n",
        "  #simplify cnf\n",
        "  cnf = simplify(cnf, assigned_by_us)\n",
        "\n",
        "  truth, assigned = dpll_with_results(cnf, literals, assigned)\n",
        "\n",
        "  if truth: return True, assigned\n",
        "  else: assigned_by_us, change = backtrack(cnf, assigned_by_us)\n",
        "  \n",
        "  change_val = True\n",
        "  if '-' in change: change_val = False\n",
        "  for item in reversed(assigned):\n",
        "    if change in item:\n",
        "      if change_val: \n",
        "        item = item.replace('-', '')\n",
        "        break\n",
        "      if not change_val:\n",
        "        item = item.replace(change, '-'+change)\n",
        "        break\n",
        "    cnf = simplify(cnf, assigned_by_us)\n",
        "\n",
        "  truth, assigned = dpll_with_results(cnf, literals, assigned)\n",
        "\n",
        "  if truth: return True, assigned\n",
        "  else: assigned_by_us, change = backtrack(cnf, assigned_by_us)\n",
        "\n",
        "\n",
        "  # Check if True\n",
        "\n",
        "\n",
        "\n",
        "  \n",
        "  #for item in cnf:\n",
        "  #          if len(item)==1:\n",
        "  #              cnf,l=unit_p(cnf,l)\n",
        "  #      if [] in cnf:\n",
        "  #          return False\n",
        "  #      if not cnf:\n",
        "  #          return True\n",
        "  #      s=l\n",
        "  #      t=most_common(cnf)\n",
        "  #      cnf1=cnf\n",
        "  #      if t in s:\n",
        "  #          s.remove(t)\n",
        "  #      r1=self.reduced(cnf,t)\n",
        "  #      r2=self.reduced(cnf1,-t)\n",
        "  #      return(dpll(r1,s) or dpll(r2,s))\n",
        "\n"
      ],
      "execution_count": 160,
      "outputs": []
    },
    {
      "cell_type": "code",
      "metadata": {
        "id": "Jus8zuWAxi6c"
      },
      "source": [
        "def unit_prop(cnf, assigned):\n",
        "  t = []\n",
        "  temp = []\n",
        "  cnf_copy = cnf\n",
        "  set_to_true = []\n",
        "\n",
        "  for item in cnf_copy:\n",
        "    if len(item) == 1:\n",
        "      t.append(item[0])\n",
        "      print(t)\n",
        "\n",
        "  for item in cnf_copy:\n",
        "    for to_delete in t:\n",
        "      if to_delete in item :\n",
        "        temp.append(item)\n",
        "  print('temp = ' ,temp)\n",
        "  if len(temp) > 0:\n",
        "    cnf_copy =  [x for x in cnf_copy if x not in temp]\n",
        "  assigned.extend(t)\n",
        "  # now all values have been deleted, time to delete opposites!\n",
        "  \n",
        "  cnf = cnf_copy\n",
        "  print(cnf)\n",
        "  for to_delete in t:\n",
        "    print(to_delete)\n",
        "    unit_val = True\n",
        "    if '-' in to_delete: unit_val = False\n",
        "    print(unit_val)\n",
        "    if(unit_val):\n",
        "      for item in cnf:\n",
        "\n",
        "        if '-'+(to_delete) in item:\n",
        "          print('Removing opposites')\n",
        "          cnf_copy.remove(item)\n",
        "          to_append = [x for x in item if to_delete not in x ]\n",
        "          print(to_append)\n",
        "          cnf_copy.append(to_append)\n",
        "    else:\n",
        "      temp_val = to_delete.replace('-', '')\n",
        "      \n",
        "      for item in cnf:\n",
        "\n",
        "          if temp_val in item:\n",
        "            print('Removing opposites')\n",
        "            cnf_copy.remove(item)\n",
        "            print(item)\n",
        "            to_append = [x for x in item if temp_val not in x ]\n",
        "            print(to_append)\n",
        "            cnf_copy.append(to_append)\n",
        "\n",
        "  return cnf_copy, assigned \n",
        "  "
      ],
      "execution_count": 135,
      "outputs": []
    },
    {
      "cell_type": "code",
      "metadata": {
        "id": "Lf-Dy48hmVXZ"
      },
      "source": [
        "def simplify(cnf1, assigned_by_us):\n",
        "  \"Simplifies the cnf\"\n",
        "  \"Input: cnf and values assigned by our heuristic\"\n",
        "  \"Output: simplified cnf\"\n",
        "  cnf = cnf1\n",
        "  for var in assigned_by_us:\n",
        "    var_true = True\n",
        "    if '-' in var: var_true = False\n",
        "\n",
        "    if var_true:\n",
        "      for item in cnf:\n",
        "        if var in item:\n",
        "          cnf.remove(item)\n",
        "        elif '-'+var in cnf:\n",
        "          copy = item\n",
        "          cnf.remove(item)\n",
        "          cnf.append([x for x in copy if '-'+var not in x])\n",
        "    \n",
        "    else:\n",
        "      for item in cnf:\n",
        "        if var in item:\n",
        "          cnf.remove(item)\n",
        "        elif var.replace('-','') in cnf:\n",
        "          copy = item\n",
        "          cnf.remove(item)\n",
        "          cnf.append([x for x in copy if var.replace('-','') not in x])\n",
        "  return cnf\n",
        "\n",
        "    \n",
        "    \n",
        "\n"
      ],
      "execution_count": 154,
      "outputs": []
    },
    {
      "cell_type": "code",
      "metadata": {
        "id": "eSjSKgdd3rno",
        "outputId": "9411c36c-16a0-45d3-ecca-57d82896be02",
        "colab": {
          "base_uri": "https://localhost:8080/",
          "height": 504
        }
      },
      "source": [
        "cnf = [['-111'], ['-111', '112', '113'], ['-112'], ['222', '223']]\n",
        "literals = get_literals()\n",
        "assigned = []\n",
        "cnf, assigned = dpll_with_results(cnf, literals, assigned)\n",
        "print(cnf)\n",
        "print(assigned)"
      ],
      "execution_count": 153,
      "outputs": [
        {
          "output_type": "stream",
          "name": "stdout",
          "text": [
            "729\n",
            "['-111']\n",
            "['-111', '-112']\n",
            "temp =  [['-111'], ['-111', '112', '113'], ['-112']]\n",
            "[['222', '223']]\n",
            "-111\n",
            "False\n",
            "-112\n",
            "False\n",
            "temp =  []\n",
            "[['222', '223']]\n",
            "['113', '114', '115', '116', '117', '118', '119', '121', '122', '123', '124', '125', '126', '127', '128', '129', '131', '132', '133', '134', '135', '136', '137', '138', '139', '141', '142', '143', '144', '145', '146', '147', '148', '149', '151', '152', '153', '154', '155', '156', '157', '158', '159', '161', '162', '163', '164', '165', '166', '167', '168', '169', '171', '172', '173', '174', '175', '176', '177', '178', '179', '181', '182', '183', '184', '185', '186', '187', '188', '189', '191', '192', '193', '194', '195', '196', '197', '198', '199', '211', '212', '213', '214', '215', '216', '217', '218', '219', '221', '222', '223', '224', '225', '226', '227', '228', '229', '231', '232', '233', '234', '235', '236', '237', '238', '239', '241', '242', '243', '244', '245', '246', '247', '248', '249', '251', '252', '253', '254', '255', '256', '257', '258', '259', '261', '262', '263', '264', '265', '266', '267', '268', '269', '271', '272', '273', '274', '275', '276', '277', '278', '279', '281', '282', '283', '284', '285', '286', '287', '288', '289', '291', '292', '293', '294', '295', '296', '297', '298', '299', '311', '312', '313', '314', '315', '316', '317', '318', '319', '321', '322', '323', '324', '325', '326', '327', '328', '329', '331', '332', '333', '334', '335', '336', '337', '338', '339', '341', '342', '343', '344', '345', '346', '347', '348', '349', '351', '352', '353', '354', '355', '356', '357', '358', '359', '361', '362', '363', '364', '365', '366', '367', '368', '369', '371', '372', '373', '374', '375', '376', '377', '378', '379', '381', '382', '383', '384', '385', '386', '387', '388', '389', '391', '392', '393', '394', '395', '396', '397', '398', '399', '411', '412', '413', '414', '415', '416', '417', '418', '419', '421', '422', '423', '424', '425', '426', '427', '428', '429', '431', '432', '433', '434', '435', '436', '437', '438', '439', '441', '442', '443', '444', '445', '446', '447', '448', '449', '451', '452', '453', '454', '455', '456', '457', '458', '459', '461', '462', '463', '464', '465', '466', '467', '468', '469', '471', '472', '473', '474', '475', '476', '477', '478', '479', '481', '482', '483', '484', '485', '486', '487', '488', '489', '491', '492', '493', '494', '495', '496', '497', '498', '499', '511', '512', '513', '514', '515', '516', '517', '518', '519', '521', '522', '523', '524', '525', '526', '527', '528', '529', '531', '532', '533', '534', '535', '536', '537', '538', '539', '541', '542', '543', '544', '545', '546', '547', '548', '549', '551', '552', '553', '554', '555', '556', '557', '558', '559', '561', '562', '563', '564', '565', '566', '567', '568', '569', '571', '572', '573', '574', '575', '576', '577', '578', '579', '581', '582', '583', '584', '585', '586', '587', '588', '589', '591', '592', '593', '594', '595', '596', '597', '598', '599', '611', '612', '613', '614', '615', '616', '617', '618', '619', '621', '622', '623', '624', '625', '626', '627', '628', '629', '631', '632', '633', '634', '635', '636', '637', '638', '639', '641', '642', '643', '644', '645', '646', '647', '648', '649', '651', '652', '653', '654', '655', '656', '657', '658', '659', '661', '662', '663', '664', '665', '666', '667', '668', '669', '671', '672', '673', '674', '675', '676', '677', '678', '679', '681', '682', '683', '684', '685', '686', '687', '688', '689', '691', '692', '693', '694', '695', '696', '697', '698', '699', '711', '712', '713', '714', '715', '716', '717', '718', '719', '721', '722', '723', '724', '725', '726', '727', '728', '729', '731', '732', '733', '734', '735', '736', '737', '738', '739', '741', '742', '743', '744', '745', '746', '747', '748', '749', '751', '752', '753', '754', '755', '756', '757', '758', '759', '761', '762', '763', '764', '765', '766', '767', '768', '769', '771', '772', '773', '774', '775', '776', '777', '778', '779', '781', '782', '783', '784', '785', '786', '787', '788', '789', '791', '792', '793', '794', '795', '796', '797', '798', '799', '811', '812', '813', '814', '815', '816', '817', '818', '819', '821', '822', '823', '824', '825', '826', '827', '828', '829', '831', '832', '833', '834', '835', '836', '837', '838', '839', '841', '842', '843', '844', '845', '846', '847', '848', '849', '851', '852', '853', '854', '855', '856', '857', '858', '859', '861', '862', '863', '864', '865', '866', '867', '868', '869', '871', '872', '873', '874', '875', '876', '877', '878', '879', '881', '882', '883', '884', '885', '886', '887', '888', '889', '891', '892', '893', '894', '895', '896', '897', '898', '899', '911', '912', '913', '914', '915', '916', '917', '918', '919', '921', '922', '923', '924', '925', '926', '927', '928', '929', '931', '932', '933', '934', '935', '936', '937', '938', '939', '941', '942', '943', '944', '945', '946', '947', '948', '949', '951', '952', '953', '954', '955', '956', '957', '958', '959', '961', '962', '963', '964', '965', '966', '967', '968', '969', '971', '972', '973', '974', '975', '976', '977', '978', '979', '981', '982', '983', '984', '985', '986', '987', '988', '989', '991', '992', '993', '994', '995', '996', '997', '998', '999']\n",
            "934\n"
          ]
        },
        {
          "output_type": "error",
          "ename": "TypeError",
          "evalue": "ignored",
          "traceback": [
            "\u001b[0;31m---------------------------------------------------------------------------\u001b[0m",
            "\u001b[0;31mTypeError\u001b[0m                                 Traceback (most recent call last)",
            "\u001b[0;32m<ipython-input-153-c7c6fb05aa11>\u001b[0m in \u001b[0;36m<module>\u001b[0;34m()\u001b[0m\n\u001b[1;32m      2\u001b[0m \u001b[0mliterals\u001b[0m \u001b[0;34m=\u001b[0m \u001b[0mget_literals\u001b[0m\u001b[0;34m(\u001b[0m\u001b[0;34m)\u001b[0m\u001b[0;34m\u001b[0m\u001b[0;34m\u001b[0m\u001b[0m\n\u001b[1;32m      3\u001b[0m \u001b[0massigned\u001b[0m \u001b[0;34m=\u001b[0m \u001b[0;34m[\u001b[0m\u001b[0;34m]\u001b[0m\u001b[0;34m\u001b[0m\u001b[0;34m\u001b[0m\u001b[0m\n\u001b[0;32m----> 4\u001b[0;31m \u001b[0mcnf\u001b[0m\u001b[0;34m,\u001b[0m \u001b[0massigned\u001b[0m \u001b[0;34m=\u001b[0m \u001b[0mdpll_with_results\u001b[0m\u001b[0;34m(\u001b[0m\u001b[0mcnf\u001b[0m\u001b[0;34m,\u001b[0m \u001b[0mliterals\u001b[0m\u001b[0;34m,\u001b[0m \u001b[0massigned\u001b[0m\u001b[0;34m)\u001b[0m\u001b[0;34m\u001b[0m\u001b[0;34m\u001b[0m\u001b[0m\n\u001b[0m\u001b[1;32m      5\u001b[0m \u001b[0mprint\u001b[0m\u001b[0;34m(\u001b[0m\u001b[0mcnf\u001b[0m\u001b[0;34m)\u001b[0m\u001b[0;34m\u001b[0m\u001b[0;34m\u001b[0m\u001b[0m\n\u001b[1;32m      6\u001b[0m \u001b[0mprint\u001b[0m\u001b[0;34m(\u001b[0m\u001b[0massigned\u001b[0m\u001b[0;34m)\u001b[0m\u001b[0;34m\u001b[0m\u001b[0;34m\u001b[0m\u001b[0m\n",
            "\u001b[0;31mTypeError\u001b[0m: cannot unpack non-iterable NoneType object"
          ]
        }
      ]
    },
    {
      "cell_type": "code",
      "metadata": {
        "id": "Sj-_xRqsq_tH"
      },
      "source": [
        "def backtrack(cnf, assigned):\n",
        "  for assignment in reversed(assigned):\n",
        "    if '-' in assignment:\n",
        "      assignment = assignment.replace('-','')\n",
        "      change = assignment\n",
        "      break\n",
        "\n",
        "  return assigned, change"
      ],
      "execution_count": 157,
      "outputs": []
    },
    {
      "cell_type": "code",
      "metadata": {
        "id": "qVPlg5_Ytc0o",
        "outputId": "1b3a43c1-c966-474e-989b-e2daf9d33707",
        "colab": {
          "base_uri": "https://localhost:8080/"
        }
      },
      "source": [
        "lol = '01'\n",
        "if '0' in lol: print('1')"
      ],
      "execution_count": 159,
      "outputs": [
        {
          "output_type": "stream",
          "name": "stdout",
          "text": [
            "1\n"
          ]
        }
      ]
    },
    {
      "cell_type": "code",
      "metadata": {
        "id": "qjT5EXsIa5HW"
      },
      "source": [
        "import random\n",
        "def getNextVar(mode, to_assign):\n",
        "  if mode == 'random':\n",
        "    return random.choice(to_assign)"
      ],
      "execution_count": 148,
      "outputs": []
    },
    {
      "cell_type": "code",
      "metadata": {
        "id": "E2vKp6jQclNg"
      },
      "source": [
        "def check_clause(cnf, assigned_by_us):\n",
        "  "
      ],
      "execution_count": null,
      "outputs": []
    },
    {
      "cell_type": "code",
      "metadata": {
        "id": "gVEpbxZpv850",
        "outputId": "d3a72eba-fba4-497a-85e3-1a1209170e41"
      },
      "source": [
        "dpll(cnf =Dimac_List, l=literals)"
      ],
      "execution_count": null,
      "outputs": [
        {
          "data": {
            "text/plain": [
              "True"
            ]
          },
          "execution_count": 122,
          "metadata": {},
          "output_type": "execute_result"
        }
      ]
    },
    {
      "cell_type": "code",
      "metadata": {
        "id": "xFGvZxnOv851"
      },
      "source": [
        "def clean_rules(rules, example):\n",
        "    ##########\n",
        "    # Takes in the sudoku to solve and the rules as input \n",
        "    # cleans up rules (deletes clauses that are true because of the input-sudoku & deletes negation in clauses where these same literals occur)\n",
        "    # returns the cleaned-up rules joined with the input-sudoku\n",
        "    ##########\n",
        "    \n",
        "    # Check which clauses are true based on the values which are true or false assigned\n",
        "    for i, item in enumerate(example):\n",
        "        # REVERSED, when you delete lines (clauses) in a list it will go out of index\n",
        "        # when you won't reverse read the list\n",
        "        for z, rule in reversed(list(enumerate(rules))):\n",
        "            # Check if variable from example which is true exists as true in clause, then clause is true\n",
        "            if item in rule and \"-\" + item not in rule:# and \"-\" not in item:\n",
        "                rules.remove(rule)\n",
        "           \n",
        "            # Negation of variable exists in clause, but variable is true assigned\n",
        "            elif item in rule and \"-\" + item in rule and \"-\" not in item:\n",
        "                y = rule.replace(\"-\" + item, '').strip()\n",
        "                rule = y\n",
        "    \n",
        "    return rules, example"
      ],
      "execution_count": null,
      "outputs": []
    },
    {
      "cell_type": "code",
      "metadata": {
        "id": "PBBPZU50v853"
      },
      "source": [
        "from itertools import chain\n",
        "def clause_checking(sudoku_example, clauses_sudoku, nr_new_variables):\n",
        "    \n",
        "    ########\n",
        "    # Checks whether a clause is true or false\n",
        "    # Input: sudoku-input, clauses so far and the # of new variables\n",
        "    # Output: updated clauses and boolean true_clause (if clause = True, returns True) \n",
        "    #######\n",
        "    clauses= list(clauses_sudoku)\n",
        "    clauses = list(chain.from_iterable(clauses))\n",
        "    #print(clauses)\n",
        "    nVars = nr_new_variables\n",
        "    false_clause = False\n",
        "\n",
        "    for i, item in enumerate(sudoku_example[-nVars:]):\n",
        "        #print(item)\n",
        "        for z, clause in reversed(list(enumerate(clauses))):\n",
        "            #print(clause)\n",
        "            # Check if variable from clauses which is true exists as true in clause, then clause is true\n",
        "            #print(item)\n",
        "            if item in clause and \"-\" + item not in clause and \"-\" not in item:\n",
        "                clauses.remove(clause)\n",
        "            # Check if variable from clauses which is false exists as false in clause, then clause is true\n",
        "            elif item in clause and \"-\" in item:\n",
        "                clauses.remove(clause)\n",
        "            # Negation of variable exists in clause, but variable is true assigned\n",
        "            elif item in clause and \"-\" + item in clause and \"-\" not in item:\n",
        "                \n",
        "                y = clause.replace(\"-\" + item, '').strip()\n",
        "                # When string is empty the clause is false, therefore length needs to be higher than 0\n",
        "                if len(y) > 0:\n",
        "                    print('-FC')\n",
        "                    clauses_sudoku[z] = y\n",
        "                else:\n",
        "                    print('FC')\n",
        "                    false_clause = True\n",
        "                    break\n",
        "            # Variable exists in clause, but variable is false assigned\n",
        "            elif item.replace('-', '') in clause and '-' in item and item not in clause:\n",
        "                y = clause.replace(item.replace('-', ''), '').strip()\n",
        "                if len(y) > 0:\n",
        "                    clauses_sudoku[z] = y\n",
        "                else:\n",
        "                    false_clause = True\n",
        "                    break\n",
        "\n",
        "    return clauses_sudoku, false_clause\n"
      ],
      "execution_count": null,
      "outputs": []
    },
    {
      "cell_type": "code",
      "metadata": {
        "id": "dnxipDxRv854"
      },
      "source": [
        "\n",
        "def false_clause_backtrack(list_splits, sudoku_example, sudoku_rules):\n",
        "    ####### \n",
        "    # When false clause detected, backtrack\n",
        "    # Checks if new_clause is True, otherwise backtrack recursively\n",
        "    # Input: list of splits, sudoku-input and the rules\n",
        "    # Outputs new list_splits, sudoku-input and current clauses\n",
        "    ######\n",
        "    for i, item in reversed(list(enumerate(list_splits))):\n",
        "        # Make the last variable which is true, false\n",
        "        if '-' not in item:\n",
        "            #print(list_splits)\n",
        "            item = '-' + list_splits[i]\n",
        "            #print(list_splits)\n",
        "            #list_splits = list_splits[:i + 1]\n",
        "            #print(list_splits)\n",
        "            \n",
        "            break\n",
        "\n",
        "    # Remove variables after the variable which is now false assigned\n",
        "    n_splits = len(list_splits)\n",
        "    #print(n_splits)\n",
        "    last_split = list_splits[n_splits - 1]\n",
        "    target_index = sudoku_example.index(last_split.replace('-', ''))\n",
        "\n",
        "    sudoku_example = sudoku_example[:target_index + 1]\n",
        "    sudoku_example[target_index] = last_split\n",
        "\n",
        "    # Check if clause is true or false\n",
        "    clauses_sudoku, false_clause = clause_checking(sudoku_example, sudoku_rules, len(sudoku_example))\n",
        "\n",
        "    # When clause is false you need to backtrack\n",
        "    if false_clause:\n",
        "        false_clause_backtrack(list_splits, sudoku_example, sudoku_rules)\n",
        "    # No clauses are false, thus no backtracking is needed\n",
        "    else:\n",
        "        return list_splits, sudoku_example, clauses_sudoku\n",
        "\n"
      ],
      "execution_count": null,
      "outputs": []
    },
    {
      "cell_type": "code",
      "metadata": {
        "id": "gnCs06uXv854"
      },
      "source": [
        "# Random heuristic where you give a random variable without a truth assignment, a truth assignment\n",
        "def random_heuristic(variables_without_assignment, sudoku_example, list_splits):\n",
        "    #######\n",
        "    # Random heuristic, randomly picks a value without assignment and assigns it True\n",
        "    # Input: list of vars w/o assignment, sudoku-input, list of splits\n",
        "    # Output: sudoku-input, list of splits\n",
        "    #######\n",
        "    \n",
        "    #print(variables_without_assignment)\n",
        "    random_true_value = random.choice(variables_without_assignment)\n",
        "    sudoku_example.append(random_true_value)\n",
        "    list_splits.append(random_true_value)\n",
        "    return sudoku_example, list_splits\n",
        "\n"
      ],
      "execution_count": null,
      "outputs": []
    },
    {
      "cell_type": "code",
      "metadata": {
        "id": "vKxZ0_Iuv855"
      },
      "source": [
        "def final_truth_value_assignment(clauses_sudoku, sudoku_example, sudoku_rules, input_file, variables_list):\n",
        "    list_splits = []\n",
        "    # While loop for assigning right truth value to the variables\n",
        "    while len(clauses_sudoku) > 1:\n",
        "        # Nr of new variables in case of split is 1 and when unit clauses can be multiple.\n",
        "        # Bases on nr of new variables you know how much variables have to be run on clauses set.\n",
        "        # It has no use to run the earlier derived variables on the clauses, it won't make a difference.\n",
        "        nr_new_variables = 0\n",
        "\n",
        "    #    # Remove trailing spaces from clauses list\n",
        "    #    for i, item in enumerate(clauses_sudoku[0]):\n",
        "    #        print(item)\n",
        "    #        clauses_sudoku[i] = clauses_sudoku[i].strip()\n",
        "    #        clauses_sudoku[i] = re.sub(' +', ' ', item)\n",
        "\n",
        "        # Check for unit clause and make it true\n",
        "        easy_case = False\n",
        "        \n",
        "        #print(len(clauses_sudoku[0]))\n",
        "        for z in clauses_sudoku[0]:\n",
        "            if  len(z) == 1:\n",
        "                nr_new_variables = nr_new_variables + 1\n",
        "                sudoku_example.extend(z)\n",
        "               # print('yo')\n",
        "                easy_case = True\n",
        "\n",
        "        \n",
        "        print('got here')\n",
        "            # There is not a unit clause, thus make random variable true --> SPLITTING\n",
        "        list_without_lines = []\n",
        "            # Determine which variables already have truth assignment\n",
        "        for x in sudoku_example:\n",
        "              list_without_lines.append(x.replace('-', ''))\n",
        "\n",
        "            # List with variables without truth assignment\n",
        "        #print(len(set(variables_list)))\n",
        "        #print(len(set(list_without_lines)))\n",
        "        variables_without_assignment = list(set(variables_list) - set(list_without_lines))\n",
        "\n",
        "        if not easy_case:\n",
        "            # Pick a random variable which has not a truth assignment. This is splitting thus 1 new variable.\n",
        "            if len(list_splits) > 0:\n",
        "                sudoku_example, list_splits = random_heuristic(variables_without_assignment, sudoku_example, list_splits)\n",
        "                nr_new_variables += 1 #?????????????????? shouldnt it be +=1 ?\n",
        "\n",
        "        # Check if clause is true or false\n",
        "        clauses_sudoku1 = clauses_sudoku\n",
        "        #print(sudoku_example)\n",
        "        clauses_sudoku, false_clause = clause_checking(sudoku_example, clauses_sudoku1, nr_new_variables)\n",
        "\n",
        "        # When one or more clauses are false you will backtrack\n",
        "        if false_clause:\n",
        "            if len(list_splits) > 0:\n",
        "                list_splits, sudoku_example, clauses_sudoku = false_clause_backtrack(list_splits, sudoku_example,sudoku_rules)\n",
        "            else:\n",
        "                variables_without_assignment = list(set(variables_list) - set(list_without_lines))\n",
        "                if (len(variables_without_assignment> 0)):\n",
        "                    sudoku_example, list_splits = random_heuristic(variables_without_assignment, sudoku_example, list_splits)\n",
        "\n",
        "            # Finished --> return an output file\n",
        "        if len(clauses_sudoku) == 0:\n",
        "\n",
        "            output_list = list(dict.fromkeys(sudoku_example))\n",
        "            output_list.sort()\n",
        "            with open(\"output_data/\" + input_file.replace('.txt', '') + '-out.txt', 'w') as f:\n",
        "                for item in output_list:\n",
        "                    f.write(\"%s\\n\" % item)"
      ],
      "execution_count": null,
      "outputs": []
    },
    {
      "cell_type": "code",
      "metadata": {
        "id": "6_1v4SH3v857",
        "outputId": "aeb3ca81-b2e2-461f-9224-a65813d7a6f4",
        "colab": {
          "base_uri": "https://localhost:8080/",
          "height": 264
        }
      },
      "source": [
        "filename = 'sudoku-example.txt'\n",
        "sudoku = open(filename,'r')\n",
        "sudoku_input = dimac_Reader(sudoku, filename.strip('.txt').replace('-',' ').capitalize(), info = False, sudoku_vals = True);\n",
        "\n",
        "filename = 'sudoku-rules.txt'\n",
        "sudoku_rules = open(filename, 'r')\n",
        "rules = dimac_Reader(sudoku_rules, filename.strip('.txt').replace('-',' ').capitalize(), info = False);\n",
        "#print(rules)\n",
        "#print(sudoku_input[0])\n",
        "\n",
        "literals = get_literals()\n",
        "#print(len(variables_list))\n",
        "cleaned_sudoku_rules = clean_rules(rules, sudoku_input)\n",
        "input_clauses_sudoku = cleaned_sudoku_rules\n",
        "assigned = []\n",
        "dpll_with_results(input_clauses_sudoku, literals, assigned)\n",
        "\n",
        "print(\"DONE\")"
      ],
      "execution_count": 161,
      "outputs": [
        {
          "output_type": "error",
          "ename": "FileNotFoundError",
          "evalue": "ignored",
          "traceback": [
            "\u001b[0;31m---------------------------------------------------------------------------\u001b[0m",
            "\u001b[0;31mFileNotFoundError\u001b[0m                         Traceback (most recent call last)",
            "\u001b[0;32m<ipython-input-161-ae6d1ffef8fe>\u001b[0m in \u001b[0;36m<module>\u001b[0;34m()\u001b[0m\n\u001b[1;32m      1\u001b[0m \u001b[0mfilename\u001b[0m \u001b[0;34m=\u001b[0m \u001b[0;34m'sudoku-example.txt'\u001b[0m\u001b[0;34m\u001b[0m\u001b[0;34m\u001b[0m\u001b[0m\n\u001b[0;32m----> 2\u001b[0;31m \u001b[0msudoku\u001b[0m \u001b[0;34m=\u001b[0m \u001b[0mopen\u001b[0m\u001b[0;34m(\u001b[0m\u001b[0mfilename\u001b[0m\u001b[0;34m,\u001b[0m\u001b[0;34m'r'\u001b[0m\u001b[0;34m)\u001b[0m\u001b[0;34m\u001b[0m\u001b[0;34m\u001b[0m\u001b[0m\n\u001b[0m\u001b[1;32m      3\u001b[0m \u001b[0msudoku_input\u001b[0m \u001b[0;34m=\u001b[0m \u001b[0mdimac_Reader\u001b[0m\u001b[0;34m(\u001b[0m\u001b[0msudoku\u001b[0m\u001b[0;34m,\u001b[0m \u001b[0mfilename\u001b[0m\u001b[0;34m.\u001b[0m\u001b[0mstrip\u001b[0m\u001b[0;34m(\u001b[0m\u001b[0;34m'.txt'\u001b[0m\u001b[0;34m)\u001b[0m\u001b[0;34m.\u001b[0m\u001b[0mreplace\u001b[0m\u001b[0;34m(\u001b[0m\u001b[0;34m'-'\u001b[0m\u001b[0;34m,\u001b[0m\u001b[0;34m' '\u001b[0m\u001b[0;34m)\u001b[0m\u001b[0;34m.\u001b[0m\u001b[0mcapitalize\u001b[0m\u001b[0;34m(\u001b[0m\u001b[0;34m)\u001b[0m\u001b[0;34m,\u001b[0m \u001b[0minfo\u001b[0m \u001b[0;34m=\u001b[0m \u001b[0;32mFalse\u001b[0m\u001b[0;34m,\u001b[0m \u001b[0msudoku_vals\u001b[0m \u001b[0;34m=\u001b[0m \u001b[0;32mTrue\u001b[0m\u001b[0;34m)\u001b[0m\u001b[0;34m;\u001b[0m\u001b[0;34m\u001b[0m\u001b[0;34m\u001b[0m\u001b[0m\n\u001b[1;32m      4\u001b[0m \u001b[0;34m\u001b[0m\u001b[0m\n\u001b[1;32m      5\u001b[0m \u001b[0mfilename\u001b[0m \u001b[0;34m=\u001b[0m \u001b[0;34m'sudoku-rules.txt'\u001b[0m\u001b[0;34m\u001b[0m\u001b[0;34m\u001b[0m\u001b[0m\n",
            "\u001b[0;31mFileNotFoundError\u001b[0m: [Errno 2] No such file or directory: 'sudoku-example.txt'"
          ]
        }
      ]
    },
    {
      "cell_type": "code",
      "metadata": {
        "id": "Q5cfK_9gv858"
      },
      "source": [
        "import re\n",
        "import random\n",
        "import sys\n",
        "\n",
        "\n",
        "\n",
        "\n",
        "# Determine unit clauses based on example input\n",
        "def check_clauses_based_on_example_input(input_rules, input_example):\n",
        "    # Check which clauses are true based on the values which are true or false assigned\n",
        "    for i, example_item in enumerate(input_example):\n",
        "        # REVERSED, when you delete lines (clauses) in a list it will go out of index\n",
        "        # when you won't reverse read the list\n",
        "        for z, rule_item in reversed(list(enumerate(input_rules))):\n",
        "            # Check if variable from example which is true exists as true in clause, then clause is true\n",
        "            if input_example[i] in input_rules[z] and \"-\" + input_example[i] not in input_rules[z] and \"-\" not in \\\n",
        "                    input_example[i]:\n",
        "                input_rules.remove(input_rules[z])\n",
        "            # Negation of variable exists in clause, but variable is true assigned\n",
        "            elif input_example[i] in input_rules[z] and \"-\" + input_example[i] in input_rules[z] and \"-\" not in \\\n",
        "                    input_example[i]:\n",
        "                y = input_rules[z].replace(\"-\" + input_example[i], '').strip()\n",
        "                input_rules[z] = y\n",
        "    return input_rules\n",
        "\n",
        "\n",
        "# Check whether clauses are true or false\n",
        "def clause_checking(sudoku_example, clauses_sudoku1, nr_new_variables):\n",
        "    clauses_sudoku = clauses_sudoku1.copy()\n",
        "    nr_new_variables1 = nr_new_variables\n",
        "    false_clause = False\n",
        "    for i, item in enumerate(sudoku_example[-nr_new_variables1:]):\n",
        "        for z, item1 in reversed(list(enumerate(clauses_sudoku))):\n",
        "            # Check if variable from clauses which is true exists as true in clause, then clause is true\n",
        "            if item in clauses_sudoku[z] and \"-\" + item not in clauses_sudoku[z] and \"-\" not in item:\n",
        "                clauses_sudoku.remove(clauses_sudoku[z])\n",
        "            # Check if variable from clauses which is false exists as false in clause, then clause is true\n",
        "            elif item in clauses_sudoku[z] and \"-\" in item:\n",
        "                clauses_sudoku.remove(clauses_sudoku[z])\n",
        "            # Negation of variable exists in clause, but variable is true assigned\n",
        "            elif item in clauses_sudoku[z] and \"-\" + item in clauses_sudoku[z] and \"-\" not in item:\n",
        "                y = clauses_sudoku[z].replace(\"-\" + item, '').strip()\n",
        "                # When string is empty the clause is false, therefore length needs to be higher than 0\n",
        "                if len(y) > 0:\n",
        "                    clauses_sudoku[z] = y\n",
        "                else:\n",
        "                    false_clause = True\n",
        "                    break\n",
        "            # Variable exists in clause, but variable is false assigned\n",
        "            elif item.replace('-', '') in clauses_sudoku[z] and '-' in item and item not in clauses_sudoku[z]:\n",
        "                y = clauses_sudoku[z].replace(item.replace('-', ''), '').strip()\n",
        "                if len(y) > 0:\n",
        "                    clauses_sudoku[z] = y\n",
        "                else:\n",
        "                    false_clause = True\n",
        "                    break\n",
        "\n",
        "    return clauses_sudoku, false_clause\n",
        "\n",
        "\n",
        "# Backtracking splits in case of false clause\n",
        "def false_clause_backtrack(list_splits, sudoku_example, sudoku_rules):\n",
        "    for i, item in reversed(list(enumerate(list_splits))):\n",
        "        # Make the last variable which is true, false\n",
        "        if '-' not in item:\n",
        "        \n",
        "            list_splits[i] = \"-\" + list_splits[i]\n",
        "            print(list_splits)\n",
        "            list_splits = list_splits[:i + 1]\n",
        "            print(list_splits)\n",
        "            \n",
        "            break\n",
        "\n",
        "    # Remove variables after the variable which is now false assigned\n",
        "    list_splits_length = len(list_splits)\n",
        "    last_split = list_splits[list_splits_length - 1]\n",
        "    target_index = sudoku_example.index(last_split.replace('-', ''))\n",
        "\n",
        "    sudoku_example = sudoku_example[:target_index + 1]\n",
        "    sudoku_example[target_index] = last_split\n",
        "\n",
        "    # Check if clause is true or false\n",
        "    clauses_sudoku, false_clause = clause_checking(sudoku_example, sudoku_rules, len(sudoku_example))\n",
        "\n",
        "    # When clause is false you need to backtrack\n",
        "    if false_clause:\n",
        "        false_clause_backtrack(list_splits, sudoku_example, sudoku_rules)\n",
        "    # No clauses are false, thus no backtracking is needed\n",
        "    else:\n",
        "        return list_splits, sudoku_example, clauses_sudoku\n",
        "\n",
        "\n",
        "# Random heuristic where you give a random variable without a truth assignment, a truth assignment\n",
        "def random_heuristics(variables_without_assignment, sudoku_example, list_splits):\n",
        "    random_true_value = random.choice(variables_without_assignment)\n",
        "    sudoku_example.append(random_true_value)\n",
        "    list_splits.append(random_true_value)\n",
        "    return sudoku_example, list_splits\n",
        "\n",
        "\n",
        "def second_heuristics():\n",
        "    # todo\n",
        "    pass\n",
        "\n",
        "\n",
        "def third_heuristics():\n",
        "    # todo\n",
        "    pass\n",
        "\n",
        "\n",
        "# Main function\n",
        "def final_truth_value_assignment(clauses_sudoku, sudoku_example, sudoku_rules, input_file, variables_list):\n",
        "    list_splits = []\n",
        "    # While loop for assigning right truth value to the variables\n",
        "    while len(clauses_sudoku) > 1:\n",
        "        # Nr of new variables in case of split is 1 and when unit clauses can be multiple.\n",
        "        # Bases on nr of new variables you know how much variables have to be run on clauses set.\n",
        "        # It has no use to run the earlier derived variables on the clauses, it won't make a difference.\n",
        "        nr_new_variables = 0\n",
        "\n",
        "        # Remove trailing spaces from clauses list\n",
        "        for i, item in enumerate(clauses_sudoku):\n",
        "            clauses_sudoku[i] = clauses_sudoku[i].strip\n",
        "            clauses_sudoku[i] = re.sub(' +', ' ', item)\n",
        "\n",
        "        # Check for unit clause and make it true\n",
        "        easy_case = False\n",
        "        for z in clauses_sudoku:\n",
        "            if \" \" not in z:\n",
        "                nr_new_variables = nr_new_variables + 1\n",
        "                sudoku_example.append(z)\n",
        "                easy_case = True\n",
        "\n",
        "        if not easy_case:\n",
        "            # There is not a unit clause, thus make random variable true --> SPLITTING\n",
        "            list_without_lines = []\n",
        "            # Determine which variables already have truth assignment\n",
        "            for x in sudoku_example:\n",
        "                list_without_lines.append(x.replace('-', ''))\n",
        "\n",
        "            # List with variables without truth assignment\n",
        "            variables_without_assignment = list(set(variables_list) - set(list_without_lines))\n",
        "\n",
        "            # Pick a random variable which has not a truth assignment. This is splitting thus 1 new variable.\n",
        "            sudoku_example, list_splits = random_heuristics(variables_without_assignment, sudoku_example, list_splits)\n",
        "            nr_new_variables = 1 #?????????????????? shouldnt it be +=1 ?\n",
        "\n",
        "        # Check if clause is true or false\n",
        "        clauses_sudoku1 = clauses_sudoku.copy()\n",
        "        clauses_sudoku, false_clause = clause_checking(sudoku_example, clauses_sudoku1, nr_new_variables)\n",
        "\n",
        "        # When one or more clauses are false you will backtrack\n",
        "        if false_clause:\n",
        "            list_splits, sudoku_example, clauses_sudoku = false_clause_backtrack(list_splits, sudoku_example,\n",
        "                                                                                 sudoku_rules)\n",
        "\n",
        "            # Finished --> return an output file\n",
        "        if len(clauses_sudoku) == 0:\n",
        "\n",
        "            output_list = list(dict.fromkeys(sudoku_example))\n",
        "            output_list.sort()\n",
        "            with open(\"output_data/\" + input_file.replace('.txt', '') + '-out.txt', 'w') as f:\n",
        "                for item in output_list:\n",
        "                    f.write(\"%s\\n\" % item)"
      ],
      "execution_count": null,
      "outputs": []
    },
    {
      "cell_type": "code",
      "metadata": {
        "id": "jtH2sY94v86A",
        "outputId": "1032b7f3-521c-4ca7-8b2b-ca8182796622"
      },
      "source": [
        "if __name__ == \"__main__\":\n",
        "    #input_rules_var = sys.argv[1]\n",
        "    #input_example_var = sys.argv[2]\n",
        "\n",
        "    input_rules_name = \"\"\n",
        " \n",
        "\n",
        "    input_sudoku_rules = read_file(\"sudoku-rules.txt\")\n",
        "    input_sudoku_example = read_file(\"sudoku-example.txt\")\n",
        "    \n",
        "    input_sudoku_rules = prepare_sudoku_rules(input_sudoku_rules)\n",
        "    #print(input_sudoku_rules)\n",
        "    variables_list = get_unique_variables(input_sudoku_rules)\n",
        "    #print(len(variables_list))\n",
        "    cleaned_sudoku_rules = check_clauses_based_on_example_input(input_sudoku_rules, input_sudoku_example)\n",
        "\n",
        "    input_clauses_sudoku = cleaned_sudoku_rules.copy()\n",
        "\n",
        "    final_truth_value_assignment(input_clauses_sudoku, input_sudoku_example, input_sudoku_rules, input_rules_name)\n",
        "\n",
        "    print(\"DONE\")"
      ],
      "execution_count": null,
      "outputs": [
        {
          "ename": "TypeError",
          "evalue": "'list' object is not callable",
          "output_type": "error",
          "traceback": [
            "\u001b[1;31m---------------------------------------------------------------------------\u001b[0m",
            "\u001b[1;31mTypeError\u001b[0m                                 Traceback (most recent call last)",
            "\u001b[1;32m<ipython-input-141-297eedf64f95>\u001b[0m in \u001b[0;36m<module>\u001b[1;34m\u001b[0m\n\u001b[0;32m     11\u001b[0m     \u001b[0minput_sudoku_rules\u001b[0m \u001b[1;33m=\u001b[0m \u001b[0mprepare_sudoku_rules\u001b[0m\u001b[1;33m(\u001b[0m\u001b[0minput_sudoku_rules\u001b[0m\u001b[1;33m)\u001b[0m\u001b[1;33m\u001b[0m\u001b[1;33m\u001b[0m\u001b[0m\n\u001b[0;32m     12\u001b[0m     \u001b[1;31m#print(input_sudoku_rules)\u001b[0m\u001b[1;33m\u001b[0m\u001b[1;33m\u001b[0m\u001b[1;33m\u001b[0m\u001b[0m\n\u001b[1;32m---> 13\u001b[1;33m     \u001b[0mvariables_list\u001b[0m \u001b[1;33m=\u001b[0m \u001b[0mget_unique_variables\u001b[0m\u001b[1;33m(\u001b[0m\u001b[0minput_sudoku_rules\u001b[0m\u001b[1;33m)\u001b[0m\u001b[1;33m\u001b[0m\u001b[1;33m\u001b[0m\u001b[0m\n\u001b[0m\u001b[0;32m     14\u001b[0m     \u001b[1;31m#print(len(variables_list))\u001b[0m\u001b[1;33m\u001b[0m\u001b[1;33m\u001b[0m\u001b[1;33m\u001b[0m\u001b[0m\n\u001b[0;32m     15\u001b[0m     \u001b[0mcleaned_sudoku_rules\u001b[0m \u001b[1;33m=\u001b[0m \u001b[0mcheck_clauses_based_on_example_input\u001b[0m\u001b[1;33m(\u001b[0m\u001b[0minput_sudoku_rules\u001b[0m\u001b[1;33m,\u001b[0m \u001b[0minput_sudoku_example\u001b[0m\u001b[1;33m)\u001b[0m\u001b[1;33m\u001b[0m\u001b[1;33m\u001b[0m\u001b[0m\n",
            "\u001b[1;32m<ipython-input-138-0ed946deb78f>\u001b[0m in \u001b[0;36mget_unique_variables\u001b[1;34m(sudoku_rules)\u001b[0m\n\u001b[0;32m     24\u001b[0m \u001b[1;32mdef\u001b[0m \u001b[0mget_unique_variables\u001b[0m\u001b[1;33m(\u001b[0m\u001b[0msudoku_rules\u001b[0m\u001b[1;33m)\u001b[0m\u001b[1;33m:\u001b[0m\u001b[1;33m\u001b[0m\u001b[1;33m\u001b[0m\u001b[0m\n\u001b[0;32m     25\u001b[0m     \u001b[1;31m# Determine which values are present in the rules list\u001b[0m\u001b[1;33m\u001b[0m\u001b[1;33m\u001b[0m\u001b[1;33m\u001b[0m\u001b[0m\n\u001b[1;32m---> 26\u001b[1;33m     \u001b[0mduplicate_variables\u001b[0m \u001b[1;33m=\u001b[0m \u001b[0mlist\u001b[0m\u001b[1;33m(\u001b[0m\u001b[0mmap\u001b[0m\u001b[1;33m(\u001b[0m\u001b[1;32mlambda\u001b[0m \u001b[0mst\u001b[0m\u001b[1;33m:\u001b[0m \u001b[0mstr\u001b[0m\u001b[1;33m.\u001b[0m\u001b[0mreplace\u001b[0m\u001b[1;33m(\u001b[0m\u001b[0mst\u001b[0m\u001b[1;33m,\u001b[0m \u001b[1;34m\"-\"\u001b[0m\u001b[1;33m,\u001b[0m \u001b[1;34m\"\"\u001b[0m\u001b[1;33m)\u001b[0m\u001b[1;33m,\u001b[0m \u001b[0msudoku_rules\u001b[0m\u001b[1;33m)\u001b[0m\u001b[1;33m)\u001b[0m\u001b[1;33m\u001b[0m\u001b[1;33m\u001b[0m\u001b[0m\n\u001b[0m\u001b[0;32m     27\u001b[0m     \u001b[0mfinal_variables_list\u001b[0m \u001b[1;33m=\u001b[0m \u001b[1;33m[\u001b[0m\u001b[1;33m]\u001b[0m\u001b[1;33m\u001b[0m\u001b[1;33m\u001b[0m\u001b[0m\n\u001b[0;32m     28\u001b[0m     \u001b[1;32mfor\u001b[0m \u001b[0mx\u001b[0m \u001b[1;32min\u001b[0m \u001b[0mduplicate_variables\u001b[0m\u001b[1;33m:\u001b[0m\u001b[1;33m\u001b[0m\u001b[1;33m\u001b[0m\u001b[0m\n",
            "\u001b[1;31mTypeError\u001b[0m: 'list' object is not callable"
          ]
        }
      ]
    },
    {
      "cell_type": "code",
      "metadata": {
        "id": "qf6VOPYMv86C"
      },
      "source": [
        ""
      ],
      "execution_count": null,
      "outputs": []
    }
  ]
}